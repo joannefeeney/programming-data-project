{
 "cells": [
  {
   "cell_type": "markdown",
   "metadata": {},
   "source": [
    "# Programming for Data Analysis Project\n",
    "\n",
    "### By Joanne Feeney\n",
    "\n",
    "***"
   ]
  },
  {
   "cell_type": "markdown",
   "metadata": {},
   "source": [
    "Data source: https://data.gov.ie/dataset/dublin-bonham-st-rainfall-data\n",
    "\n",
    "The data is licenced by Met Éireann\n",
    "\n",
    "***\n",
    "\n",
    "For this project, I will synthesise the data contained in the above dataset. \n",
    "\n",
    "It consists of monthly rainfall records for a Met Éireann station at Bonham St. in Co. Dublin."
   ]
  },
  {
   "cell_type": "markdown",
   "metadata": {},
   "source": [
    "The data contains 170 rows. (The first 13 being descriptors of the data)\n",
    "\n",
    "There are 7 columns of data included in the data set:\n",
    "\n",
    "* year - Year\n",
    "* month - Month\n",
    "* rain - Precipitation Amount (mm)\n",
    "* gdf - Greatest daily fall (mm)\n",
    "* rd - Number of rain days (0.2mm or more)\n",
    "* wd - Number of wet days (1.0 mm or more)\t\n",
    "* ind - Indicator"
   ]
  },
  {
   "cell_type": "markdown",
   "metadata": {},
   "source": [
    "https://www.met.ie/climate/available-data/long-term-data-sets"
   ]
  },
  {
   "cell_type": "markdown",
   "metadata": {},
   "source": [
    "There has not been any research into this particular dataset that I have been able to locate, so this notebook\n",
    "will display assumptions that I am making and not from any other sources."
   ]
  },
  {
   "cell_type": "code",
   "execution_count": null,
   "metadata": {},
   "outputs": [],
   "source": [
    "import numpy as np\n",
    "import matplotlib.pyplot as plt\n",
    "import pandas as pd\n",
    "import seaborn as sns\n",
    "from datetime import date, time, datetime"
   ]
  },
  {
   "cell_type": "code",
   "execution_count": null,
   "metadata": {},
   "outputs": [],
   "source": [
    "# Naming as df and reading it into python\n",
    "df = pd.read_csv(\"Bonham_St._Rainfall.csv\", skiprows=13)"
   ]
  },
  {
   "cell_type": "code",
   "execution_count": null,
   "metadata": {},
   "outputs": [],
   "source": [
    "df = df.dropna()\n",
    "\n",
    "df.describe(include='all')"
   ]
  },
  {
   "cell_type": "markdown",
   "metadata": {},
   "source": [
    "As you can see, there are multiple parts of this dataset which are missing information. I have chosen to remove these incomplete sections of the data."
   ]
  },
  {
   "cell_type": "markdown",
   "metadata": {},
   "source": [
    "https://www.met.ie/climate/available-data/long-term-data-sets"
   ]
  },
  {
   "cell_type": "markdown",
   "metadata": {},
   "source": [
    "*\"Although there are recognized uncertainties in the early record, it is concluded that the derived series offers valuable insights for understanding multi-decadal rainfall variability in Ireland, a sentinel location in northwest Europe and provides a firm basis for benchmarking other long-term records and future reconstructions.\"* Met Éireann, last accessed 04/12/23"
   ]
  },
  {
   "cell_type": "code",
   "execution_count": null,
   "metadata": {},
   "outputs": [],
   "source": [
    "# Pie chart of years survey active\n",
    "Rain=df.year.value_counts()\n",
    "Rain.plot(kind='pie',autopct=\"%.2f%%\");"
   ]
  },
  {
   "cell_type": "markdown",
   "metadata": {},
   "source": [
    "From the above pie chart, we can see that rainfall was recorded at Bonham St. station from 1942 to 1954.\n",
    "\n"
   ]
  },
  {
   "cell_type": "code",
   "execution_count": null,
   "metadata": {},
   "outputs": [],
   "source": [
    "df_1942 = df[0:12]\n",
    "df_1943 = df[12:24]\n",
    "df_1944 = df[24:36]\n",
    "df_1945 = df[36:48]\n",
    "df_1946 = df[48:60]\n",
    "df_1947 = df[60:72]\n",
    "df_1948 = df[72:84]\n",
    "df_1949 = df[84:96]\n",
    "df_1950 = df[96:108]\n",
    "df_1951 = df[108:120]\n",
    "df_1952 = df[120:132]\n",
    "df_1953 = df[132:144]\n",
    "df_1954 = df[144:156]"
   ]
  },
  {
   "cell_type": "markdown",
   "metadata": {},
   "source": [
    "I know there is a much better way of assigning the year and months this data was recorded using time series but I just kept getting it wrong and an extensive google search would not allow me to find out how to assign time series to data that does not contain a day."
   ]
  },
  {
   "cell_type": "markdown",
   "metadata": {},
   "source": [
    "### Numbers in the below plots represent months of the year, 1 being January and 12 being December"
   ]
  },
  {
   "cell_type": "code",
   "execution_count": null,
   "metadata": {},
   "outputs": [],
   "source": [
    "Jan = 1\n",
    "Feb = 2\n",
    "Mar = 3\n",
    "Apr = 4\n",
    "May = 5\n",
    "Jun = 6\n",
    "Jul = 7\n",
    "Aug = 8\n",
    "Sep = 9\n",
    "Oct = 10\n",
    "Nov = 11\n",
    "Dec = 12"
   ]
  },
  {
   "cell_type": "code",
   "execution_count": null,
   "metadata": {},
   "outputs": [],
   "source": [
    "# Scatterplot of rain in 1942\n",
    "sns.scatterplot(df_1942, x=\"month\", y=\"rain\", color=\"red\")\n",
    "plt.title(\"Rain(mm) in 1942\", size=20, color=\"black\");"
   ]
  },
  {
   "cell_type": "markdown",
   "metadata": {},
   "source": [
    "Taking an example of the first year that rainfall was recorded, we can see the rainfall from\n",
    "month 1 (being January) to month 12 (being December)."
   ]
  },
  {
   "cell_type": "code",
   "execution_count": null,
   "metadata": {},
   "outputs": [],
   "source": [
    "# Scatterplot of rain in 1954\n",
    "sns.scatterplot(df_1954, x=\"month\", y=\"rain\", color=\"red\")\n",
    "plt.title(\"Rain(mm) in 1954\", size=20, color=\"black\");"
   ]
  },
  {
   "cell_type": "markdown",
   "metadata": {},
   "source": [
    "Taking an example of the final year that rainfall was recorded, we can see the rainfall from\n",
    "month 1 (being January) to month 12 (being December) was quite different to 1942."
   ]
  },
  {
   "cell_type": "code",
   "execution_count": null,
   "metadata": {},
   "outputs": [],
   "source": [
    "df_1945_1947 = df[36:72]"
   ]
  },
  {
   "cell_type": "markdown",
   "metadata": {},
   "source": [
    "https://www.statology.org/seaborn-figure-size/"
   ]
  },
  {
   "cell_type": "code",
   "execution_count": null,
   "metadata": {},
   "outputs": [],
   "source": [
    "# Histogram of greatest avg rain from 1945-1947\n",
    "sns.histplot(df_1945_1947, x =\"gdf\", color=\"black\")\n",
    "sns.set(rc={\"figure.figsize\":(19, 10)})\n",
    "plt.title(\"Greatest daily fall(mm) 1945-1947\", size=30, color=\"black\");"
   ]
  },
  {
   "cell_type": "markdown",
   "metadata": {},
   "source": [
    "Taking an example from January 1945 to December 1947, we can see via the above histogram that the greatest daily fall(gdf),\n",
    "was almost always a unique floating point number and only 6 times across these two years was the exact same amount of rainfall seen in any one month."
   ]
  },
  {
   "cell_type": "code",
   "execution_count": null,
   "metadata": {},
   "outputs": [],
   "source": [
    "# Bar plot of rain in 1954\n",
    "sns.barplot(df_1954, x =\"rain\", y=\"month\")\n",
    "plt.title(\"Rain(mm) in 1954\", size=30, color=\"black\");"
   ]
  },
  {
   "cell_type": "markdown",
   "metadata": {},
   "source": [
    "Taking another example of data from one particular year, namely 1954 (the final year the rainfall was recorded at this station), we can see that the rainfall from the first month of the year gradually increases right up until month 12 at the end of the year, where it is at its highest level."
   ]
  },
  {
   "cell_type": "code",
   "execution_count": null,
   "metadata": {},
   "outputs": [],
   "source": [
    "# Bar plot of rain in 1942\n",
    "sns.barplot(df_1942, x =\"rain\", y=\"month\")\n",
    "plt.title(\"Rain(mm) in 1942\", size=30, color=\"black\");"
   ]
  },
  {
   "cell_type": "markdown",
   "metadata": {},
   "source": [
    "https://datatofish.com/string-to-integer-dataframe/\n",
    "\n",
    "https://stackoverflow.com/questions/16729483/converting-strings-to-floats-in-a-dataframe"
   ]
  },
  {
   "cell_type": "code",
   "execution_count": null,
   "metadata": {},
   "outputs": [],
   "source": [
    "# For some reason I cannot convert the values to int or float points using some version of the below\n",
    "# I have tried multiple times with different variations\n",
    "\n",
    "# df['rain'] = df['rain'].astype('float64') "
   ]
  },
  {
   "cell_type": "code",
   "execution_count": null,
   "metadata": {},
   "outputs": [],
   "source": [
    "sns.scatterplot(df_1942, x=\"month\", y=\"gdf\")\n",
    "plt.title(\"Greatest daily fall(mm) in 1942\", size=30, color=\"black\");"
   ]
  },
  {
   "cell_type": "markdown",
   "metadata": {},
   "source": [
    "Unfortunately, as I have been unsuccessful in changing the float columns from strings to numerical values, I cannot represent this data very well and cannot come to certain conclusions on it as the data being read into the scatter plots etc. is not output correctly."
   ]
  },
  {
   "cell_type": "markdown",
   "metadata": {},
   "source": [
    "***\n",
    "# End"
   ]
  }
 ],
 "metadata": {
  "kernelspec": {
   "display_name": "base",
   "language": "python",
   "name": "python3"
  },
  "language_info": {
   "codemirror_mode": {
    "name": "ipython",
    "version": 3
   },
   "file_extension": ".py",
   "mimetype": "text/x-python",
   "name": "python",
   "nbconvert_exporter": "python",
   "pygments_lexer": "ipython3",
   "version": "3.11.4"
  }
 },
 "nbformat": 4,
 "nbformat_minor": 2
}
